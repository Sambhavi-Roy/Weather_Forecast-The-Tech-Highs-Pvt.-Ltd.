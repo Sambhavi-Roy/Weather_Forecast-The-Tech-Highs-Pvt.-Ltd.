{
 "cells": [
  {
   "cell_type": "markdown",
   "metadata": {},
   "source": [
    "WEATHER DETECTION APP"
   ]
  },
  {
   "cell_type": "code",
   "execution_count": 2,
   "metadata": {},
   "outputs": [],
   "source": [
    "# importing required modules \n",
    "import requests\n",
    "from tkinter import Tk, StringVar, Entry, Button, Label, messagebox"
   ]
  },
  {
   "cell_type": "markdown",
   "metadata": {},
   "source": [
    "Function for fetching weather parameters"
   ]
  },
  {
   "cell_type": "markdown",
   "metadata": {},
   "source": []
  },
  {
   "cell_type": "code",
   "execution_count": 3,
   "metadata": {},
   "outputs": [],
   "source": [
    "#This function takes a city name as input and returns a list containing the city, country, temperature in Kelvin, temperature in Celsius, and weather description\n",
    "\n",
    "def getweather(city):\n",
    "    api_key = \"9ec8f61f944515f354cad726eab6d669\" #using API key generated in https://openweathermap.org/\n",
    "    url = \"http://api.openweathermap.org/data/2.5/weather?q={}&appid={}\"\n",
    "    result = requests.get(url.format(city, api_key)) #sends API request and stores response\n",
    "    \n",
    "    if result:\n",
    "        json = result.json()\n",
    "        city = json['name']\n",
    "        country = json['sys']['country']\n",
    "        ktemp = json['main']['temp']\n",
    "        ctemp = ktemp - 273.15\n",
    "        weather1 = json['weather'][0]['main']\n",
    "        final = [city, country, ktemp, ctemp, weather1]\n",
    "        return final\n",
    "    else:\n",
    "        print(\"NO Content Found\")\n",
    "        return None"
   ]
  },
  {
   "cell_type": "markdown",
   "metadata": {},
   "source": [
    "Function to search city"
   ]
  },
  {
   "cell_type": "code",
   "execution_count": 4,
   "metadata": {},
   "outputs": [],
   "source": [
    "def search():\n",
    "    city = city_text.get() #retreives city name\n",
    "    weather = getweather(city) #calling getweather function\n",
    "\n",
    "    #If weather data is found, updates the labels (location_lbl, temperature_label, weather_l) with the weather information.\n",
    "    if weather:\n",
    "        location_lbl['text'] = '{} ,{}'.format(weather[0], weather[1])\n",
    "        temperature_label['text'] = f\"{weather[3]:.2f} Degree Celsius\"\n",
    "        weather_l['text'] = weather[4]\n",
    "    else:\n",
    "        messagebox.showerror('Error', \"Cannot find {}\".format(city))"
   ]
  },
  {
   "cell_type": "markdown",
   "metadata": {},
   "source": [
    "Application"
   ]
  },
  {
   "cell_type": "code",
   "execution_count": 5,
   "metadata": {},
   "outputs": [],
   "source": [
    "# Main window\n",
    "app = Tk()\n",
    "\n",
    "# Title\n",
    "app.title(\"Weather App\")\n",
    "\n",
    "# Window size\n",
    "app.geometry(\"300x300\")\n",
    "\n",
    "# Entry widget for user to input city name\n",
    "city_text = StringVar()\n",
    "city_entry = Entry(app, textvariable=city_text)\n",
    "city_entry.pack()\n",
    "\n",
    "#Adding search button\n",
    "Search_btn = Button(app, text=\"Search Weather\", width=12, command=search)\n",
    "Search_btn.pack()\n"
   ]
  },
  {
   "cell_type": "code",
   "execution_count": 6,
   "metadata": {},
   "outputs": [
    {
     "name": "stdout",
     "output_type": "stream",
     "text": [
      "NO Content Found\n"
     ]
    }
   ],
   "source": [
    "#label to display location\n",
    "location_lbl = Label(app, text=\"Location\", font=('bold', 20))\n",
    "location_lbl.pack()\n",
    "\n",
    "#label to display temperature\n",
    "temperature_label = Label(app, text=\"\")\n",
    "temperature_label.pack()\n",
    "\n",
    "#label to display weather\n",
    "weather_l = Label(app, text=\"\")\n",
    "weather_l.pack()\n",
    "\n",
    "app.mainloop()\n"
   ]
  },
  {
   "cell_type": "code",
   "execution_count": null,
   "metadata": {},
   "outputs": [],
   "source": []
  },
  {
   "cell_type": "code",
   "execution_count": null,
   "metadata": {},
   "outputs": [],
   "source": []
  }
 ],
 "metadata": {
  "kernelspec": {
   "display_name": "base",
   "language": "python",
   "name": "python3"
  },
  "language_info": {
   "codemirror_mode": {
    "name": "ipython",
    "version": 3
   },
   "file_extension": ".py",
   "mimetype": "text/x-python",
   "name": "python",
   "nbconvert_exporter": "python",
   "pygments_lexer": "ipython3",
   "version": "3.11.4"
  }
 },
 "nbformat": 4,
 "nbformat_minor": 2
}
